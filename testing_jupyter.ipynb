{
 "cells": [
  {
   "cell_type": "markdown",
   "id": "407cc14b",
   "metadata": {},
   "source": [
    "Sample Markdowon:\n",
    "\n",
    "## 2 Modes: Command Mode | Edit Mode\n",
    "\n",
    "1. Command Mode: actions like add and delete cells (esc)\n",
    "2. Edit Mode: edit ourselves (enter or click cell)\n",
    "\n",
    "## To execute code (3 options in 'Cell'):\n",
    "\n",
    "1. Run Cells (cmd + enter)\n",
    "    -Executes code in our cell, displays output at bottom of cell\n",
    "    -Cell we just ran is still selected\n",
    "2. Run Cells and Select Below (shft + enter)\n",
    "    -Executes code in cell, then selects cell below it\n",
    "    -If no cell existing, inserts cell below\n",
    "3. Run Cells and Insert Below (opt + enter)\n",
    "    -Executes code and inserts cell below\n",
    "    \n",
    "*Note: Python code behaves like an interactive prompt (like in CLI?)\n",
    "\n",
    "- Incrementing numbers on the left (Out[#] / In [])\n",
    "- Show us the order in which the cells were executed\n",
    "    \n",
    "1. Create variable (name), execute in next cell (produces result)\n",
    "2. Reassign variable, execute previous cell again (name variable now has new value)\n",
    "    -This is because the numbers to the left determine execution order\n",
    "    -Should still try to put things in order from top to bottom\n",
    "    -Cell -> Run All (Runs all cells from top to bottom, sorts by #)\n",
    "\n",
    "## Add 'Markdown'\n",
    "- Text that's translated as html\n",
    "- Used to explain what's going on\n",
    "- Select top cell -> Add New Cell Above -> Cell -> Cell Type -> Markdown\n",
    "- Run by hitting cmd + enter (changes to html markup!)"
   ]
  },
  {
   "cell_type": "code",
   "execution_count": 15,
   "id": "1f77d231",
   "metadata": {},
   "outputs": [],
   "source": [
    "name = 'John'"
   ]
  },
  {
   "cell_type": "code",
   "execution_count": 16,
   "id": "c37fb074",
   "metadata": {},
   "outputs": [
    {
     "data": {
      "text/plain": [
       "'John'"
      ]
     },
     "execution_count": 16,
     "metadata": {},
     "output_type": "execute_result"
    }
   ],
   "source": [
    "name"
   ]
  },
  {
   "cell_type": "code",
   "execution_count": 17,
   "id": "b77fea96",
   "metadata": {},
   "outputs": [],
   "source": [
    "name = 'Sky'"
   ]
  },
  {
   "cell_type": "code",
   "execution_count": null,
   "id": "f50e7098",
   "metadata": {},
   "outputs": [],
   "source": []
  }
 ],
 "metadata": {
  "kernelspec": {
   "display_name": "Python 3 (ipykernel)",
   "language": "python",
   "name": "python3"
  },
  "language_info": {
   "codemirror_mode": {
    "name": "ipython",
    "version": 3
   },
   "file_extension": ".py",
   "mimetype": "text/x-python",
   "name": "python",
   "nbconvert_exporter": "python",
   "pygments_lexer": "ipython3",
   "version": "3.11.4"
  }
 },
 "nbformat": 4,
 "nbformat_minor": 5
}

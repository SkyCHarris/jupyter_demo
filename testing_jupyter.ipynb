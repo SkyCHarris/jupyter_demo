{
 "cells": [
  {
   "cell_type": "markdown",
   "id": "7bcc2a91",
   "metadata": {},
   "source": [
    "Sample Markdowon:\n",
    "\n",
    "## 2 Modes: Command Mode | Edit Mode\n",
    "\n",
    "1. Command Mode: actions like add and delete cells (esc)\n",
    "2. Edit Mode: edit ourselves (enter or click cell)\n",
    "\n",
    "## To execute code (3 options in 'Cell'):\n",
    "\n",
    "1. Run Cells (cmd + enter)\n",
    "    -Executes code in our cell, displays output at bottom of cell\n",
    "    -Cell we just ran is still selected\n",
    "2. Run Cells and Select Below (shft + enter)\n",
    "    -Executes code in cell, then selects cell below it\n",
    "    -If no cell existing, inserts cell below\n",
    "3. Run Cells and Insert Below (opt + enter)\n",
    "    -Executes code and inserts cell below\n",
    "    \n",
    "*Note: Python code behaves like an interactive prompt (like in CLI?)\n",
    "\n",
    "- Incrementing numbers on the left (Out[#] / In [])\n",
    "- Show us the order in which the cells were executed\n",
    "    \n",
    "1. Create variable (name), execute in next cell (produces result)\n",
    "2. Reassign variable, execute previous cell again (name variable now has new value)\n",
    "    -This is because the numbers to the left determine execution order\n",
    "    -Should still try to put things in order from top to bottom\n",
    "    -Cell -> Run All (Runs all cells from top to bottom, sorts by #)\n",
    "\n",
    "## Add 'Markdown'\n",
    "- Text that's translated as html\n",
    "- Used to explain what's going on\n",
    "- Select top cell -> Add New Cell Above -> Cell -> Cell Type -> Markdown\n",
    "- Run by hitting cmd + enter (changes to html markup!)\n",
    "\n",
    "## Special Commands (not seen as Python code)\n",
    "- Exclamation mark ! interprets command as bash command\n",
    "- Ex. !pip list -> output would be same as running within cmd line\n",
    "\n",
    "## Magics\n",
    "- % Line Magics:\n",
    "    - Commands arguments all come from same line\n",
    "- %% Cell Magics\n",
    "    - Entire cell will be used as that command's arguments\n",
    "    \n",
    "- Use these to list all the other available commands\n",
    "- %lsmagic\n",
    "- ex. %alias  %alias_magic  %autoawait  %autocall  %automagic  %autosave  %bookmark\n",
    "\n",
    "- Ex. Want to print out current working directory:\n",
    "    - %pwd\n",
    "### Common Magic Commands\n",
    "1. %matplotlib inline\n",
    "    - Allows matplotlib charts to be displayed within notebook\n",
    "2. %%HTML\n",
    "    - Allows rendering html directly without using markdown we looked at before\n",
    "    - Entire cell will be rendered as html, not just the single line\n",
    "    - Can embed iframe directly in notebook (embed videos etc.). Imgs, links, etc.\n",
    "3. %%timeit\n",
    "    - Time the execution of our Python code\n",
    "    - ex. Time a list comprehension that squares the numbers up to 1000\n",
    "    - Useful for comparing execution time of different functions\n",
    "    - Add %%timetit command to top of cell, run for mult. functions, get output right below cells\n",
    "    \n",
    "## Render w/out Magic Commands\n",
    "1. Display pandas dataframe from directly within notebook\n",
    "    - Printing dataframe outputs it directly in our notebook, nice readable form\n",
    "\n",
    "## Export Notebook in HTML\n",
    "- File -> Download as -> (HTML, Python, Markdown)\n",
    "- Add to blog, present, email, etc.\n",
    "\n",
    "## Share Notebook File with Others\n"
   ]
  },
  {
   "cell_type": "code",
   "execution_count": 15,
   "id": "26b4543d",
   "metadata": {},
   "outputs": [],
   "source": [
    "name = 'John'"
   ]
  },
  {
   "cell_type": "code",
   "execution_count": 16,
   "id": "9a8264fa",
   "metadata": {},
   "outputs": [
    {
     "data": {
      "text/plain": [
       "'John'"
      ]
     },
     "execution_count": 16,
     "metadata": {},
     "output_type": "execute_result"
    }
   ],
   "source": [
    "name"
   ]
  },
  {
   "cell_type": "code",
   "execution_count": 17,
   "id": "7ae36c01",
   "metadata": {},
   "outputs": [],
   "source": [
    "name = 'Sky'"
   ]
  },
  {
   "cell_type": "code",
   "execution_count": 20,
   "id": "cbf65816",
   "metadata": {},
   "outputs": [
    {
     "data": {
      "application/json": {
       "cell": {
        "!": "OSMagics",
        "HTML": "Other",
        "SVG": "Other",
        "bash": "Other",
        "capture": "ExecutionMagics",
        "debug": "ExecutionMagics",
        "file": "Other",
        "html": "DisplayMagics",
        "javascript": "DisplayMagics",
        "js": "DisplayMagics",
        "latex": "DisplayMagics",
        "markdown": "DisplayMagics",
        "perl": "Other",
        "prun": "ExecutionMagics",
        "pypy": "Other",
        "python": "Other",
        "python2": "Other",
        "python3": "Other",
        "ruby": "Other",
        "script": "ScriptMagics",
        "sh": "Other",
        "svg": "DisplayMagics",
        "sx": "OSMagics",
        "system": "OSMagics",
        "time": "ExecutionMagics",
        "timeit": "ExecutionMagics",
        "writefile": "OSMagics"
       },
       "line": {
        "alias": "OSMagics",
        "alias_magic": "BasicMagics",
        "autoawait": "AsyncMagics",
        "autocall": "AutoMagics",
        "automagic": "AutoMagics",
        "autosave": "KernelMagics",
        "bookmark": "OSMagics",
        "cat": "Other",
        "cd": "OSMagics",
        "clear": "KernelMagics",
        "colors": "BasicMagics",
        "conda": "PackagingMagics",
        "config": "ConfigMagics",
        "connect_info": "KernelMagics",
        "cp": "Other",
        "debug": "ExecutionMagics",
        "dhist": "OSMagics",
        "dirs": "OSMagics",
        "doctest_mode": "BasicMagics",
        "ed": "Other",
        "edit": "KernelMagics",
        "env": "OSMagics",
        "gui": "BasicMagics",
        "hist": "Other",
        "history": "HistoryMagics",
        "killbgscripts": "ScriptMagics",
        "ldir": "Other",
        "less": "KernelMagics",
        "lf": "Other",
        "lk": "Other",
        "ll": "Other",
        "load": "CodeMagics",
        "load_ext": "ExtensionMagics",
        "loadpy": "CodeMagics",
        "logoff": "LoggingMagics",
        "logon": "LoggingMagics",
        "logstart": "LoggingMagics",
        "logstate": "LoggingMagics",
        "logstop": "LoggingMagics",
        "ls": "Other",
        "lsmagic": "BasicMagics",
        "lx": "Other",
        "macro": "ExecutionMagics",
        "magic": "BasicMagics",
        "man": "KernelMagics",
        "matplotlib": "PylabMagics",
        "mkdir": "Other",
        "more": "KernelMagics",
        "mv": "Other",
        "notebook": "BasicMagics",
        "page": "BasicMagics",
        "pastebin": "CodeMagics",
        "pdb": "ExecutionMagics",
        "pdef": "NamespaceMagics",
        "pdoc": "NamespaceMagics",
        "pfile": "NamespaceMagics",
        "pinfo": "NamespaceMagics",
        "pinfo2": "NamespaceMagics",
        "pip": "PackagingMagics",
        "popd": "OSMagics",
        "pprint": "BasicMagics",
        "precision": "BasicMagics",
        "prun": "ExecutionMagics",
        "psearch": "NamespaceMagics",
        "psource": "NamespaceMagics",
        "pushd": "OSMagics",
        "pwd": "OSMagics",
        "pycat": "OSMagics",
        "pylab": "PylabMagics",
        "qtconsole": "KernelMagics",
        "quickref": "BasicMagics",
        "recall": "HistoryMagics",
        "rehashx": "OSMagics",
        "reload_ext": "ExtensionMagics",
        "rep": "Other",
        "rerun": "HistoryMagics",
        "reset": "NamespaceMagics",
        "reset_selective": "NamespaceMagics",
        "rm": "Other",
        "rmdir": "Other",
        "run": "ExecutionMagics",
        "save": "CodeMagics",
        "sc": "OSMagics",
        "set_env": "OSMagics",
        "store": "StoreMagics",
        "sx": "OSMagics",
        "system": "OSMagics",
        "tb": "ExecutionMagics",
        "time": "ExecutionMagics",
        "timeit": "ExecutionMagics",
        "unalias": "OSMagics",
        "unload_ext": "ExtensionMagics",
        "who": "NamespaceMagics",
        "who_ls": "NamespaceMagics",
        "whos": "NamespaceMagics",
        "xdel": "NamespaceMagics",
        "xmode": "BasicMagics"
       }
      },
      "text/plain": [
       "Available line magics:\n",
       "%alias  %alias_magic  %autoawait  %autocall  %automagic  %autosave  %bookmark  %cat  %cd  %clear  %colors  %conda  %config  %connect_info  %cp  %debug  %dhist  %dirs  %doctest_mode  %ed  %edit  %env  %gui  %hist  %history  %killbgscripts  %ldir  %less  %lf  %lk  %ll  %load  %load_ext  %loadpy  %logoff  %logon  %logstart  %logstate  %logstop  %ls  %lsmagic  %lx  %macro  %magic  %man  %matplotlib  %mkdir  %more  %mv  %notebook  %page  %pastebin  %pdb  %pdef  %pdoc  %pfile  %pinfo  %pinfo2  %pip  %popd  %pprint  %precision  %prun  %psearch  %psource  %pushd  %pwd  %pycat  %pylab  %qtconsole  %quickref  %recall  %rehashx  %reload_ext  %rep  %rerun  %reset  %reset_selective  %rm  %rmdir  %run  %save  %sc  %set_env  %store  %sx  %system  %tb  %time  %timeit  %unalias  %unload_ext  %who  %who_ls  %whos  %xdel  %xmode\n",
       "\n",
       "Available cell magics:\n",
       "%%!  %%HTML  %%SVG  %%bash  %%capture  %%debug  %%file  %%html  %%javascript  %%js  %%latex  %%markdown  %%perl  %%prun  %%pypy  %%python  %%python2  %%python3  %%ruby  %%script  %%sh  %%svg  %%sx  %%system  %%time  %%timeit  %%writefile\n",
       "\n",
       "Automagic is ON, % prefix IS NOT needed for line magics."
      ]
     },
     "execution_count": 20,
     "metadata": {},
     "output_type": "execute_result"
    }
   ],
   "source": [
    "%lsmagic"
   ]
  },
  {
   "cell_type": "code",
   "execution_count": 21,
   "id": "3ad29d16",
   "metadata": {},
   "outputs": [
    {
     "data": {
      "text/plain": [
       "'/Users/skylerharris/Desktop/jupyter_demo'"
      ]
     },
     "execution_count": 21,
     "metadata": {},
     "output_type": "execute_result"
    }
   ],
   "source": [
    "%pwd"
   ]
  },
  {
   "cell_type": "code",
   "execution_count": 1,
   "id": "9d089628",
   "metadata": {},
   "outputs": [],
   "source": [
    "%matplotlib inline"
   ]
  },
  {
   "cell_type": "code",
   "execution_count": 2,
   "id": "cd718c27",
   "metadata": {},
   "outputs": [
    {
     "data": {
      "image/png": "[encoded data removed]",
      "text/plain": [
       "<Figure size 640x480 with 1 Axes>"
      ]
     },
     "metadata": {},
     "output_type": "display_data"
    }
   ],
   "source": [
    "\"\"\"\n",
    "Simple demo of a scatter plot\n",
    "\"\"\"\n",
    "import numpy as np\n",
    "import matplotlib.pyplot as plt\n",
    "\n",
    "N = 50\n",
    "x = np.random.rand(N)\n",
    "y = np.random.rand(N)\n",
    "colors = np.random.rand(N)\n",
    "area = np.pi * (15 * np.random.rand(N))**2 # 0 to 15 point radiuses\n",
    "\n",
    "plt.scatter(x, y, s=area, c=colors, alpha=0.5)\n",
    "plt.show()"
   ]
  },
  {
   "cell_type": "code",
   "execution_count": 3,
   "id": "e96ec157",
   "metadata": {
    "scrolled": true
   },
   "outputs": [
    {
     "data": {
      "text/html": [
       "<iframe width=\"560\" height=\"315\" src=\"https://www.youtube.com/embed/YJC6ldI3hWk\" frameborder=\"0\" allowfullscreen></iframe>\n"
      ],
      "text/plain": [
       "<IPython.core.display.HTML object>"
      ]
     },
     "metadata": {},
     "output_type": "display_data"
    }
   ],
   "source": [
    "%%HTML\n",
    "<iframe width=\"560\" height=\"315\" src=\"https://www.youtube.com/embed/YJC6ldI3hWk\" frameborder=\"0\" allowfullscreen></iframe>"
   ]
  },
  {
   "cell_type": "code",
   "execution_count": 4,
   "id": "cf1b594e",
   "metadata": {},
   "outputs": [
    {
     "name": "stdout",
     "output_type": "stream",
     "text": [
      "42.1 µs ± 332 ns per loop (mean ± std. dev. of 7 runs, 10,000 loops each)\n"
     ]
    }
   ],
   "source": [
    "%%timeit\n",
    "square_evens = [n*n for n in range(1000)]"
   ]
  },
  {
   "cell_type": "code",
   "execution_count": 3,
   "id": "eec9b6b7",
   "metadata": {},
   "outputs": [
    {
     "data": {
      "text/html": [
       "<div>\n",
       "<style scoped>\n",
       "    .dataframe tbody tr th:only-of-type {\n",
       "        vertical-align: middle;\n",
       "    }\n",
       "\n",
       "    .dataframe tbody tr th {\n",
       "        vertical-align: top;\n",
       "    }\n",
       "\n",
       "    .dataframe thead th {\n",
       "        text-align: right;\n",
       "    }\n",
       "</style>\n",
       "<table border=\"1\" class=\"dataframe\">\n",
       "  <thead>\n",
       "    <tr style=\"text-align: right;\">\n",
       "      <th></th>\n",
       "      <th>0</th>\n",
       "      <th>1</th>\n",
       "      <th>2</th>\n",
       "      <th>3</th>\n",
       "      <th>4</th>\n",
       "    </tr>\n",
       "  </thead>\n",
       "  <tbody>\n",
       "    <tr>\n",
       "      <th>0</th>\n",
       "      <td>1.358742</td>\n",
       "      <td>0.928676</td>\n",
       "      <td>-0.578176</td>\n",
       "      <td>0.750921</td>\n",
       "      <td>-0.692022</td>\n",
       "    </tr>\n",
       "    <tr>\n",
       "      <th>1</th>\n",
       "      <td>1.231153</td>\n",
       "      <td>0.922693</td>\n",
       "      <td>1.151029</td>\n",
       "      <td>0.999956</td>\n",
       "      <td>1.049783</td>\n",
       "    </tr>\n",
       "    <tr>\n",
       "      <th>2</th>\n",
       "      <td>-0.097731</td>\n",
       "      <td>0.792671</td>\n",
       "      <td>2.116664</td>\n",
       "      <td>-1.994593</td>\n",
       "      <td>-0.560060</td>\n",
       "    </tr>\n",
       "    <tr>\n",
       "      <th>3</th>\n",
       "      <td>2.060045</td>\n",
       "      <td>-0.629886</td>\n",
       "      <td>1.068079</td>\n",
       "      <td>1.511392</td>\n",
       "      <td>-0.293327</td>\n",
       "    </tr>\n",
       "    <tr>\n",
       "      <th>4</th>\n",
       "      <td>-0.060014</td>\n",
       "      <td>-0.728832</td>\n",
       "      <td>-1.812664</td>\n",
       "      <td>-0.098687</td>\n",
       "      <td>-0.384596</td>\n",
       "    </tr>\n",
       "    <tr>\n",
       "      <th>5</th>\n",
       "      <td>-1.066156</td>\n",
       "      <td>-0.934469</td>\n",
       "      <td>-0.685665</td>\n",
       "      <td>0.076418</td>\n",
       "      <td>1.098038</td>\n",
       "    </tr>\n",
       "    <tr>\n",
       "      <th>6</th>\n",
       "      <td>-1.613573</td>\n",
       "      <td>-1.029969</td>\n",
       "      <td>0.927242</td>\n",
       "      <td>-0.049022</td>\n",
       "      <td>-0.280424</td>\n",
       "    </tr>\n",
       "    <tr>\n",
       "      <th>7</th>\n",
       "      <td>-2.063427</td>\n",
       "      <td>-1.102009</td>\n",
       "      <td>-0.108318</td>\n",
       "      <td>0.444122</td>\n",
       "      <td>0.002115</td>\n",
       "    </tr>\n",
       "    <tr>\n",
       "      <th>8</th>\n",
       "      <td>0.354319</td>\n",
       "      <td>0.020486</td>\n",
       "      <td>1.509864</td>\n",
       "      <td>-0.129090</td>\n",
       "      <td>-0.841488</td>\n",
       "    </tr>\n",
       "    <tr>\n",
       "      <th>9</th>\n",
       "      <td>-0.120628</td>\n",
       "      <td>0.452579</td>\n",
       "      <td>0.294055</td>\n",
       "      <td>0.195909</td>\n",
       "      <td>1.654458</td>\n",
       "    </tr>\n",
       "  </tbody>\n",
       "</table>\n",
       "</div>"
      ],
      "text/plain": [
       "          0         1         2         3         4\n",
       "0  1.358742  0.928676 -0.578176  0.750921 -0.692022\n",
       "1  1.231153  0.922693  1.151029  0.999956  1.049783\n",
       "2 -0.097731  0.792671  2.116664 -1.994593 -0.560060\n",
       "3  2.060045 -0.629886  1.068079  1.511392 -0.293327\n",
       "4 -0.060014 -0.728832 -1.812664 -0.098687 -0.384596\n",
       "5 -1.066156 -0.934469 -0.685665  0.076418  1.098038\n",
       "6 -1.613573 -1.029969  0.927242 -0.049022 -0.280424\n",
       "7 -2.063427 -1.102009 -0.108318  0.444122  0.002115\n",
       "8  0.354319  0.020486  1.509864 -0.129090 -0.841488\n",
       "9 -0.120628  0.452579  0.294055  0.195909  1.654458"
      ]
     },
     "execution_count": 3,
     "metadata": {},
     "output_type": "execute_result"
    }
   ],
   "source": [
    "import pandas as pd\n",
    "import numpy as np\n",
    "\n",
    "df = pd.DataFrame(np.random.randn(10,5))\n",
    "df"
   ]
  },
  {
   "cell_type": "code",
   "execution_count": null,
   "id": "532c63a9",
   "metadata": {},
   "outputs": [],
   "source": []
  }
 ],
 "metadata": {
  "kernelspec": {
   "display_name": "Python 3 (ipykernel)",
   "language": "python",
   "name": "python3"
  },
  "language_info": {
   "codemirror_mode": {
    "name": "ipython",
    "version": 3
   },
   "file_extension": ".py",
   "mimetype": "text/x-python",
   "name": "python",
   "nbconvert_exporter": "python",
   "pygments_lexer": "ipython3",
   "version": "3.11.4"
  }
 },
 "nbformat": 4,
 "nbformat_minor": 5
}
